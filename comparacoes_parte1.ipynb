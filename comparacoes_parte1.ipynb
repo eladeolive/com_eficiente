{
 "cells": [
  {
   "cell_type": "markdown",
   "metadata": {},
   "source": [
    "\n",
    "### Projeto de Computação Eficiente"
   ]
  },
  {
   "cell_type": "markdown",
   "metadata": {},
   "source": [
    "____"
   ]
  },
  {
   "cell_type": "markdown",
   "metadata": {},
   "source": [
    "### Introdução"
   ]
  },
  {
   "cell_type": "markdown",
   "metadata": {},
   "source": [
    "O objetivo deste projeto é verificar os tempos de execução e a eficiência do uso de memória dos códigos ao analisar os dados públicos de vacinação da COVID-19. \n",
    "\n",
    "\n",
    "**Parte 1: Download dos arquivos**\\\n",
    "        Realização do scrapping da página do Opensus e feito o download dos arquivos para os estados AM, AL, AC e AP.\n",
    "                 \n",
    "**Parte 2: Descrição dos Dados**\\\n",
    "        Exploração do primeiro arquivo para entender quais dados estão disponíveis\n",
    "\n",
    "**Parte 3: Carregamento dos Dados**\\\n",
    "        Comparação de eficiência ao carregar os arquivos para memória\n",
    "\n",
    "**Parte 4: Manipulação dos Dados**\\\n",
    "        Comparação de eficiência ao fazer manipulações nos dados\n",
    "\n",
    "**Parte 5: Visualização**\\\n",
    "        Visualização da análise realizada\n",
    "\n",
    "obs:\n",
    "Todos os códigos foram rodados num computador com SSD e  16gb de RAM.\n"
   ]
  },
  {
   "cell_type": "markdown",
   "metadata": {},
   "source": [
    "_____"
   ]
  },
  {
   "cell_type": "markdown",
   "metadata": {},
   "source": [
    "### Parte 1: Web Scrapping"
   ]
  },
  {
   "cell_type": "markdown",
   "metadata": {},
   "source": [
    "Neste parte, foi utilizada duas funções. A primeira coleta os endereços dos arquivos na página do Opensus e a segunda baixa o arquivo utilizando recursos para limitar o uso da memória, podendo ser usada sem preocupação para baixar arquivos grandes."
   ]
  },
  {
   "cell_type": "code",
   "execution_count": 7,
   "metadata": {},
   "outputs": [],
   "source": [
    "#Primeira Função\n",
    "from bs4 import BeautifulSoup\n",
    "import requests\n",
    "\n",
    "def links_on_page(url: iter, file: str, filter = None):\n",
    "    \"\"\"\n",
    "    Procura links em uma url\n",
    "    \n",
    "    file: se especificado, procura por extensão\n",
    "    filter: filtra palavras no link ou arquivo\n",
    "\n",
    "    Retorna lista com texto dos links, nome do arquivo e endereço\n",
    "    Se a página está com problema, retorna None\n",
    "    \"\"\"\n",
    "    retorno = []\n",
    "\n",
    "    for i in url:\n",
    "        resposta = requests.get(i)\n",
    "        if resposta.status_code == 200:\n",
    "            soup = BeautifulSoup(resposta.text)\n",
    "            ret = [(link.text,link['href'].split('/')[-1],link['href']) for link in soup.find_all('a') if 'http' in link['href'] and '.'+file in link['href']]\n",
    "\n",
    "            if filter is not None:\n",
    "                retorno.extend([i for i in ret if any(f in i[0] or f in i[1] for f in filter)])\n",
    "            else:\n",
    "                retorno.extend(ret)\n",
    "\n",
    "        else:\n",
    "            print('Erro na página:',i, resposta.status_code)\n",
    "            return None\n",
    "\n",
    "    return retorno"
   ]
  },
  {
   "cell_type": "code",
   "execution_count": 5,
   "metadata": {},
   "outputs": [],
   "source": [
    "#Link da página do Opensus\n",
    "ref1 = 'https://opendatasus.saude.gov.br/dataset/covid-19-vacinacao/resource/5093679f-12c3-4d6b-b7bd-07694de54173?inner_span=True'\n",
    "ref2 = 'https://opendatasus.saude.gov.br/dataset/covid-19-vacinacao/resource/10aed154-04c8-4cf4-b78a-8f0fa1bc5af4?inner_span=True'\n",
    "\n",
    "#Coletando os endereços dos arquivos csv dos estados AC, AP, AL e AM\n",
    "arquivos= links_on_page([ref1, ref2], 'csv')"
   ]
  },
  {
   "cell_type": "code",
   "execution_count": 10,
   "metadata": {},
   "outputs": [],
   "source": [
    "#Segunda Função\n",
    "import gzip\n",
    "import os\n",
    "def colect_and_save_files(url: str, file_name = None, folder = None, chunck = 9000, compress = False):\n",
    "    \"\"\"\n",
    "    Função que faz download de arquivo de um link\n",
    "    \n",
    "    file_name, folder: Pode mudar o nome do arquivo e/ou folder\n",
    "    chunck: Especifica um máximo de memória para ser utilizado (chunck)\n",
    "    compress : Pode compremir o arquivo ao baixar\n",
    "    \"\"\"\n",
    "   \n",
    "    #Nome do arquivo e localização\n",
    "    if (file_name is not None) and (folder is not None): \n",
    "        os.makedirs(folder, exist_ok=True)\n",
    "        name = folder + '/' + file_name + '.' + url.split('.')[-1]\n",
    "    elif file_name is not None:\n",
    "        name = file_name + '.'+ url.split('.')[-1]\n",
    "    elif folder is not None:\n",
    "        os.makedirs(folder, exist_ok=True)\n",
    "        name = folder+'/'+url.split('/')[-1]\n",
    "    else:\n",
    "        name = url.split('/')[-1]\n",
    "\n",
    "    \n",
    "    with requests.get(url, stream=True) as req:\n",
    "        req.raise_for_status()\n",
    "\n",
    "        if compress == True:\n",
    "            with gzip.open(name+'.gz', 'wb') as f:\n",
    "                for piece in req.iter_content(chunk_size = chunck):\n",
    "                    f.write(piece)\n",
    "        else:\n",
    "            with open(name, 'wb') as f:\n",
    "                for piece in req.iter_content(chunk_size = chunck):\n",
    "                    f.write(piece)"
   ]
  },
  {
   "cell_type": "code",
   "execution_count": 11,
   "metadata": {},
   "outputs": [],
   "source": [
    "resposta = requests.get(arquivos[0][2])"
   ]
  },
  {
   "cell_type": "code",
   "execution_count": null,
   "metadata": {},
   "outputs": [],
   "source": [
    "import pandas as pd\n",
    "\n",
    "ss = pd.read_csv(arquivos[0][2], sep=';')"
   ]
  },
  {
   "cell_type": "code",
   "execution_count": 13,
   "metadata": {},
   "outputs": [
    {
     "data": {
      "text/html": [
       "<div>\n",
       "<style scoped>\n",
       "    .dataframe tbody tr th:only-of-type {\n",
       "        vertical-align: middle;\n",
       "    }\n",
       "\n",
       "    .dataframe tbody tr th {\n",
       "        vertical-align: top;\n",
       "    }\n",
       "\n",
       "    .dataframe thead th {\n",
       "        text-align: right;\n",
       "    }\n",
       "</style>\n",
       "<table border=\"1\" class=\"dataframe\">\n",
       "  <thead>\n",
       "    <tr style=\"text-align: right;\">\n",
       "      <th></th>\n",
       "      <th>document_id</th>\n",
       "      <th>paciente_id</th>\n",
       "      <th>paciente_idade</th>\n",
       "      <th>paciente_dataNascimento</th>\n",
       "      <th>paciente_enumSexoBiologico</th>\n",
       "      <th>paciente_racaCor_codigo</th>\n",
       "      <th>paciente_racaCor_valor</th>\n",
       "      <th>paciente_endereco_coIbgeMunicipio</th>\n",
       "      <th>paciente_endereco_coPais</th>\n",
       "      <th>paciente_endereco_nmMunicipio</th>\n",
       "      <th>...</th>\n",
       "      <th>vacina_categoria_codigo</th>\n",
       "      <th>vacina_categoria_nome</th>\n",
       "      <th>vacina_lote</th>\n",
       "      <th>vacina_fabricante_nome</th>\n",
       "      <th>vacina_fabricante_referencia</th>\n",
       "      <th>vacina_dataAplicacao</th>\n",
       "      <th>vacina_descricao_dose</th>\n",
       "      <th>vacina_codigo</th>\n",
       "      <th>vacina_nome</th>\n",
       "      <th>sistema_origem</th>\n",
       "    </tr>\n",
       "  </thead>\n",
       "  <tbody>\n",
       "    <tr>\n",
       "      <th>0</th>\n",
       "      <td>54643b9f-e42c-4d8e-9f4e-29942b155b44-i0b0</td>\n",
       "      <td>d39126f9f650b946d23174e025b08e437e1b6d61ae9a83...</td>\n",
       "      <td>6</td>\n",
       "      <td>2015-06-13</td>\n",
       "      <td>F</td>\n",
       "      <td>3</td>\n",
       "      <td>PARDA</td>\n",
       "      <td>120020.0</td>\n",
       "      <td>10.0</td>\n",
       "      <td>CRUZEIRO DO SUL</td>\n",
       "      <td>...</td>\n",
       "      <td>NaN</td>\n",
       "      <td>NaN</td>\n",
       "      <td>B202106081</td>\n",
       "      <td>Pendente Identificação</td>\n",
       "      <td>Organization/29501</td>\n",
       "      <td>2022-03-28</td>\n",
       "      <td>1ª Dose</td>\n",
       "      <td>98</td>\n",
       "      <td>COVID-19 SINOVAC - CORONAVAC</td>\n",
       "      <td>Novo PNI</td>\n",
       "    </tr>\n",
       "    <tr>\n",
       "      <th>1</th>\n",
       "      <td>5cdd5bc0-d2a9-4757-8266-f8d90fb21ea9-i0b0</td>\n",
       "      <td>a1e725ea06350d34d5fa64c274278afcab625261ff33ab...</td>\n",
       "      <td>24</td>\n",
       "      <td>1997-03-26</td>\n",
       "      <td>F</td>\n",
       "      <td>4</td>\n",
       "      <td>AMARELA</td>\n",
       "      <td>120020.0</td>\n",
       "      <td>10.0</td>\n",
       "      <td>CRUZEIRO DO SUL</td>\n",
       "      <td>...</td>\n",
       "      <td>2.0</td>\n",
       "      <td>Faixa Etária</td>\n",
       "      <td>FA9096</td>\n",
       "      <td>PFIZER</td>\n",
       "      <td>Organization/00394544000851</td>\n",
       "      <td>2021-08-13</td>\n",
       "      <td>1ª Dose</td>\n",
       "      <td>87</td>\n",
       "      <td>COVID-19 PFIZER - COMIRNATY</td>\n",
       "      <td>Novo PNI</td>\n",
       "    </tr>\n",
       "    <tr>\n",
       "      <th>2</th>\n",
       "      <td>9a1779d0-acaf-46b3-88a3-4adc008b3298-i0b0</td>\n",
       "      <td>8a7b98537ba0c397d74ababb02fa977af3a7750f0d672e...</td>\n",
       "      <td>50</td>\n",
       "      <td>1970-11-12</td>\n",
       "      <td>F</td>\n",
       "      <td>3</td>\n",
       "      <td>PARDA</td>\n",
       "      <td>120040.0</td>\n",
       "      <td>10.0</td>\n",
       "      <td>RIO BRANCO</td>\n",
       "      <td>...</td>\n",
       "      <td>2.0</td>\n",
       "      <td>Faixa Etária</td>\n",
       "      <td>215VCD116W</td>\n",
       "      <td>ASTRAZENECA/FIOCRUZ</td>\n",
       "      <td>Organization/33781055000135</td>\n",
       "      <td>2021-06-18</td>\n",
       "      <td>1ª Dose</td>\n",
       "      <td>85</td>\n",
       "      <td>COVID-19 ASTRAZENECA/FIOCRUZ - COVISHIELD</td>\n",
       "      <td>Novo PNI</td>\n",
       "    </tr>\n",
       "    <tr>\n",
       "      <th>3</th>\n",
       "      <td>5ce571d7-cb4a-402c-b530-5f9e51bb45c3-i0b0</td>\n",
       "      <td>8078ea04a8806b9cc121a4bcf1eff57f08b96c0580debe...</td>\n",
       "      <td>55</td>\n",
       "      <td>1965-09-16</td>\n",
       "      <td>F</td>\n",
       "      <td>4</td>\n",
       "      <td>AMARELA</td>\n",
       "      <td>120032.0</td>\n",
       "      <td>10.0</td>\n",
       "      <td>JORDAO</td>\n",
       "      <td>...</td>\n",
       "      <td>2.0</td>\n",
       "      <td>Faixa Etária</td>\n",
       "      <td>214VCD053W</td>\n",
       "      <td>ASTRAZENECA/FIOCRUZ</td>\n",
       "      <td>Organization/33781055000135</td>\n",
       "      <td>2021-08-14</td>\n",
       "      <td>2ª Dose</td>\n",
       "      <td>85</td>\n",
       "      <td>COVID-19 ASTRAZENECA/FIOCRUZ - COVISHIELD</td>\n",
       "      <td>Novo PNI</td>\n",
       "    </tr>\n",
       "    <tr>\n",
       "      <th>4</th>\n",
       "      <td>b0ba3475-0d72-4379-be13-24322002e345-i0b0</td>\n",
       "      <td>22d3e7c21775ed9f74e5c16a7deec5806359476a939203...</td>\n",
       "      <td>40</td>\n",
       "      <td>1981-03-20</td>\n",
       "      <td>M</td>\n",
       "      <td>1</td>\n",
       "      <td>BRANCA</td>\n",
       "      <td>120040.0</td>\n",
       "      <td>10.0</td>\n",
       "      <td>RIO BRANCO</td>\n",
       "      <td>...</td>\n",
       "      <td>1.0</td>\n",
       "      <td>Comorbidades</td>\n",
       "      <td>EX2405</td>\n",
       "      <td>PFIZER</td>\n",
       "      <td>Organization/00394544000851</td>\n",
       "      <td>2021-05-14</td>\n",
       "      <td>1ª Dose</td>\n",
       "      <td>87</td>\n",
       "      <td>COVID-19 PFIZER - COMIRNATY</td>\n",
       "      <td>Novo PNI</td>\n",
       "    </tr>\n",
       "  </tbody>\n",
       "</table>\n",
       "<p>5 rows × 32 columns</p>\n",
       "</div>"
      ],
      "text/plain": [
       "                                 document_id  \\\n",
       "0  54643b9f-e42c-4d8e-9f4e-29942b155b44-i0b0   \n",
       "1  5cdd5bc0-d2a9-4757-8266-f8d90fb21ea9-i0b0   \n",
       "2  9a1779d0-acaf-46b3-88a3-4adc008b3298-i0b0   \n",
       "3  5ce571d7-cb4a-402c-b530-5f9e51bb45c3-i0b0   \n",
       "4  b0ba3475-0d72-4379-be13-24322002e345-i0b0   \n",
       "\n",
       "                                         paciente_id  paciente_idade  \\\n",
       "0  d39126f9f650b946d23174e025b08e437e1b6d61ae9a83...               6   \n",
       "1  a1e725ea06350d34d5fa64c274278afcab625261ff33ab...              24   \n",
       "2  8a7b98537ba0c397d74ababb02fa977af3a7750f0d672e...              50   \n",
       "3  8078ea04a8806b9cc121a4bcf1eff57f08b96c0580debe...              55   \n",
       "4  22d3e7c21775ed9f74e5c16a7deec5806359476a939203...              40   \n",
       "\n",
       "  paciente_dataNascimento paciente_enumSexoBiologico  paciente_racaCor_codigo  \\\n",
       "0              2015-06-13                          F                        3   \n",
       "1              1997-03-26                          F                        4   \n",
       "2              1970-11-12                          F                        3   \n",
       "3              1965-09-16                          F                        4   \n",
       "4              1981-03-20                          M                        1   \n",
       "\n",
       "  paciente_racaCor_valor paciente_endereco_coIbgeMunicipio  \\\n",
       "0                  PARDA                          120020.0   \n",
       "1                AMARELA                          120020.0   \n",
       "2                  PARDA                          120040.0   \n",
       "3                AMARELA                          120032.0   \n",
       "4                 BRANCA                          120040.0   \n",
       "\n",
       "  paciente_endereco_coPais paciente_endereco_nmMunicipio  ...  \\\n",
       "0                     10.0               CRUZEIRO DO SUL  ...   \n",
       "1                     10.0               CRUZEIRO DO SUL  ...   \n",
       "2                     10.0                    RIO BRANCO  ...   \n",
       "3                     10.0                        JORDAO  ...   \n",
       "4                     10.0                    RIO BRANCO  ...   \n",
       "\n",
       "  vacina_categoria_codigo vacina_categoria_nome vacina_lote  \\\n",
       "0                     NaN                   NaN  B202106081   \n",
       "1                     2.0          Faixa Etária      FA9096   \n",
       "2                     2.0          Faixa Etária  215VCD116W   \n",
       "3                     2.0          Faixa Etária  214VCD053W   \n",
       "4                     1.0          Comorbidades      EX2405   \n",
       "\n",
       "   vacina_fabricante_nome  vacina_fabricante_referencia vacina_dataAplicacao  \\\n",
       "0  Pendente Identificação            Organization/29501           2022-03-28   \n",
       "1                  PFIZER   Organization/00394544000851           2021-08-13   \n",
       "2     ASTRAZENECA/FIOCRUZ   Organization/33781055000135           2021-06-18   \n",
       "3     ASTRAZENECA/FIOCRUZ   Organization/33781055000135           2021-08-14   \n",
       "4                  PFIZER   Organization/00394544000851           2021-05-14   \n",
       "\n",
       "  vacina_descricao_dose  vacina_codigo  \\\n",
       "0               1ª Dose             98   \n",
       "1               1ª Dose             87   \n",
       "2               1ª Dose             85   \n",
       "3               2ª Dose             85   \n",
       "4               1ª Dose             87   \n",
       "\n",
       "                                 vacina_nome sistema_origem  \n",
       "0               COVID-19 SINOVAC - CORONAVAC       Novo PNI  \n",
       "1                COVID-19 PFIZER - COMIRNATY       Novo PNI  \n",
       "2  COVID-19 ASTRAZENECA/FIOCRUZ - COVISHIELD       Novo PNI  \n",
       "3  COVID-19 ASTRAZENECA/FIOCRUZ - COVISHIELD       Novo PNI  \n",
       "4                COVID-19 PFIZER - COMIRNATY       Novo PNI  \n",
       "\n",
       "[5 rows x 32 columns]"
      ]
     },
     "execution_count": 13,
     "metadata": {},
     "output_type": "execute_result"
    }
   ],
   "source": [
    "ss.head()"
   ]
  },
  {
   "cell_type": "code",
   "execution_count": null,
   "metadata": {},
   "outputs": [],
   "source": [
    "#Baixar todos os arquivos em pedaços de 1MB de memória sem compressão\n",
    "for arquivo in arquivos:\n",
    "    colect_and_save_files(arquivo[2], arquivo[0], folder='dados', chunck=1024**2, compress=False)"
   ]
  },
  {
   "cell_type": "markdown",
   "metadata": {},
   "source": [
    "Foram gastos 24 minutos para fazer o download de todos os arquivos. São 12 arquivos no total."
   ]
  },
  {
   "cell_type": "code",
   "execution_count": 5,
   "metadata": {},
   "outputs": [
    {
     "data": {
      "text/plain": [
       "['Dados AC - Parte 1.csv',\n",
       " 'Dados AC - Parte 2.csv',\n",
       " 'Dados AC - Parte 3.csv',\n",
       " 'Dados AL - Parte 1.csv',\n",
       " 'Dados AL - Parte 2.csv',\n",
       " 'Dados AL - Parte 3.csv',\n",
       " 'Dados AM - Parte 1.csv',\n",
       " 'Dados AM - Parte 2.csv',\n",
       " 'Dados AM - Parte 3.csv',\n",
       " 'Dados AP - Parte 1.csv',\n",
       " 'Dados AP - Parte 2.csv',\n",
       " 'Dados AP - Parte 3.csv']"
      ]
     },
     "execution_count": 5,
     "metadata": {},
     "output_type": "execute_result"
    }
   ],
   "source": [
    "#Todos os arquivos baixados\n",
    "import os\n",
    "os.listdir('dados')"
   ]
  },
  {
   "cell_type": "code",
   "execution_count": 6,
   "metadata": {},
   "outputs": [
    {
     "name": "stdout",
     "output_type": "stream",
     "text": [
      "Tamanho de todos os arquivos baixados do Opensus:  8.062500199303031 GB\n",
      "Tamanho Primeiro Arquivo AC-parte1:  269.770583152771 MB\n"
     ]
    }
   ],
   "source": [
    "total_size = 0\n",
    "for pa, di, file in os.walk('dados'):\n",
    "    for f in file:\n",
    "        total_size += os.path.getsize(os.path.join(pa, f))\n",
    "\n",
    "print('Tamanho de todos os arquivos baixados do Opensus: ', total_size / (1024**3), 'GB')\n",
    "print('Tamanho Primeiro Arquivo AC-parte1: ', os.stat('dados/Dados AC - Parte 1.csv').st_size / (1024**2), 'MB')"
   ]
  },
  {
   "cell_type": "markdown",
   "metadata": {},
   "source": [
    "_______"
   ]
  },
  {
   "cell_type": "markdown",
   "metadata": {},
   "source": [
    "### Parte 2: Descrição dos Dados"
   ]
  },
  {
   "cell_type": "markdown",
   "metadata": {},
   "source": [
    "Para entender os dados e preparar para a próxima etapa, é lido as primeiras 5 linhas do arquivo AC - Parte 1.\\\n",
    "Primeira coisa que deve ser passada para as bibliotecas é que o delimitador do csv é ';' o que pode dar problemas.\\\n",
    "Com o pandas se consigue ver as colunas e os dados que são armazenados em cada linha.\n",
    "\n",
    "Cada linha do csv equivale a uma vacina administrada pelo sus. O arquivo contem as informações do paciente, dados do estabelecimento onde a vacina foi tomada e também informações sobre a vacina.\n",
    "\n",
    "**Paciente:**\n",
    "<pre>\n",
    "       'document_id', 'paciente_id', 'paciente_idade',\n",
    "       'paciente_dataNascimento', 'paciente_enumSexoBiologico',\n",
    "       'paciente_racaCor_codigo', 'paciente_racaCor_valor',\n",
    "       'paciente_endereco_coIbgeMunicipio', 'paciente_endereco_coPais',\n",
    "       'paciente_endereco_nmMunicipio', 'paciente_endereco_nmPais',\n",
    "       'paciente_endereco_uf', 'paciente_endereco_cep',\n",
    "       'paciente_nacionalidade_enumNacionalidade', \n",
    "</pre>\n",
    "**Estabelecimento:**\n",
    "<pre>\n",
    "       'estabelecimento_valor',\n",
    "       'estabelecimento_razaoSocial', 'estalecimento_noFantasia',\n",
    "       'estabelecimento_municipio_codigo', 'estabelecimento_municipio_nome',\n",
    "       'estabelecimento_uf', 'vacina_grupoAtendimento_codigo',\n",
    "</pre>\n",
    "**Vacina:**\n",
    "<pre>\n",
    "       'vacina_grupoAtendimento_nome', 'vacina_categoria_codigo',\n",
    "       'vacina_categoria_nome', 'vacina_lote', 'vacina_fabricante_nome',\n",
    "       'vacina_fabricante_referencia', 'vacina_dataAplicacao',\n",
    "       'vacina_descricao_dose', 'vacina_codigo', 'vacina_nome',\n",
    "       'sistema_origem'\n",
    "</pre>\n",
    "\n",
    "Nos arquivos originais somente se tem informações sobre o municipio onde foi tomada a vacina, mas o SUS divide o Brasil em regiões de saúde, que são grupo de municípios próximos que integram o mesmo planejamento e dividem os recursos. Para a fase de análise, utilizarei as informações do site https://sage.saude.gov.br/paineis/regiaoSaude/lista.php?output=html&%20e que tem a relação dos municípios (código do IBGE) e suas respectivas regiões de saúde."
   ]
  },
  {
   "cell_type": "code",
   "execution_count": 2,
   "metadata": {},
   "outputs": [
    {
     "data": {
      "text/html": [
       "<div>\n",
       "<style scoped>\n",
       "    .dataframe tbody tr th:only-of-type {\n",
       "        vertical-align: middle;\n",
       "    }\n",
       "\n",
       "    .dataframe tbody tr th {\n",
       "        vertical-align: top;\n",
       "    }\n",
       "\n",
       "    .dataframe thead th {\n",
       "        text-align: right;\n",
       "    }\n",
       "</style>\n",
       "<table border=\"1\" class=\"dataframe\">\n",
       "  <thead>\n",
       "    <tr style=\"text-align: right;\">\n",
       "      <th></th>\n",
       "      <th>document_id</th>\n",
       "      <th>paciente_id</th>\n",
       "      <th>paciente_idade</th>\n",
       "      <th>paciente_dataNascimento</th>\n",
       "      <th>paciente_enumSexoBiologico</th>\n",
       "      <th>paciente_racaCor_codigo</th>\n",
       "      <th>paciente_racaCor_valor</th>\n",
       "      <th>paciente_endereco_coIbgeMunicipio</th>\n",
       "      <th>paciente_endereco_coPais</th>\n",
       "      <th>paciente_endereco_nmMunicipio</th>\n",
       "      <th>...</th>\n",
       "      <th>vacina_categoria_codigo</th>\n",
       "      <th>vacina_categoria_nome</th>\n",
       "      <th>vacina_lote</th>\n",
       "      <th>vacina_fabricante_nome</th>\n",
       "      <th>vacina_fabricante_referencia</th>\n",
       "      <th>vacina_dataAplicacao</th>\n",
       "      <th>vacina_descricao_dose</th>\n",
       "      <th>vacina_codigo</th>\n",
       "      <th>vacina_nome</th>\n",
       "      <th>sistema_origem</th>\n",
       "    </tr>\n",
       "  </thead>\n",
       "  <tbody>\n",
       "    <tr>\n",
       "      <th>0</th>\n",
       "      <td>1b1a212c-d36c-44ee-863b-28930124a6e2-i0b0</td>\n",
       "      <td>03e69d38230e8ce80dbe16815d95594f500ea4fa2da03e...</td>\n",
       "      <td>46</td>\n",
       "      <td>1974-12-06</td>\n",
       "      <td>F</td>\n",
       "      <td>3</td>\n",
       "      <td>PARDA</td>\n",
       "      <td>120040</td>\n",
       "      <td>10</td>\n",
       "      <td>RIO BRANCO</td>\n",
       "      <td>...</td>\n",
       "      <td>1.0</td>\n",
       "      <td>Comorbidades</td>\n",
       "      <td>213VCD042Z</td>\n",
       "      <td>ASTRAZENECA/FIOCRUZ</td>\n",
       "      <td>Organization/33781055000135</td>\n",
       "      <td>2021-05-26</td>\n",
       "      <td>1ª Dose</td>\n",
       "      <td>85</td>\n",
       "      <td>COVID-19 ASTRAZENECA/FIOCRUZ - COVISHIELD</td>\n",
       "      <td>Novo PNI</td>\n",
       "    </tr>\n",
       "    <tr>\n",
       "      <th>1</th>\n",
       "      <td>04699d58-a78e-48e0-83c1-69e6ffac7520-i0b0</td>\n",
       "      <td>ed232b472a6fb74d5307a25121e0c9da80f18c02ea4bee...</td>\n",
       "      <td>19</td>\n",
       "      <td>2001-09-09</td>\n",
       "      <td>M</td>\n",
       "      <td>99</td>\n",
       "      <td>SEM INFORMACAO</td>\n",
       "      <td>120040</td>\n",
       "      <td>10</td>\n",
       "      <td>RIO BRANCO</td>\n",
       "      <td>...</td>\n",
       "      <td>2.0</td>\n",
       "      <td>Faixa Etária</td>\n",
       "      <td>FA9096</td>\n",
       "      <td>PFIZER</td>\n",
       "      <td>Organization/00394544000851</td>\n",
       "      <td>2021-08-03</td>\n",
       "      <td>1ª Dose</td>\n",
       "      <td>87</td>\n",
       "      <td>COVID-19 PFIZER - COMIRNATY</td>\n",
       "      <td>Novo PNI</td>\n",
       "    </tr>\n",
       "    <tr>\n",
       "      <th>2</th>\n",
       "      <td>2dff233e-aa4f-498f-8049-b76c9165ec67-i0b0</td>\n",
       "      <td>659c8bd1f392eb84b057b21a7b196d78e3112dbfcb8a63...</td>\n",
       "      <td>5</td>\n",
       "      <td>2017-05-02</td>\n",
       "      <td>M</td>\n",
       "      <td>1</td>\n",
       "      <td>BRANCA</td>\n",
       "      <td>120040</td>\n",
       "      <td>10</td>\n",
       "      <td>RIO BRANCO</td>\n",
       "      <td>...</td>\n",
       "      <td>NaN</td>\n",
       "      <td>NaN</td>\n",
       "      <td>210320A</td>\n",
       "      <td>SINOVAC/BUTANTAN</td>\n",
       "      <td>Organization/152</td>\n",
       "      <td>2022-05-11</td>\n",
       "      <td>1ª Dose</td>\n",
       "      <td>86</td>\n",
       "      <td>COVID-19 SINOVAC/BUTANTAN - CORONAVAC</td>\n",
       "      <td>Novo PNI</td>\n",
       "    </tr>\n",
       "    <tr>\n",
       "      <th>3</th>\n",
       "      <td>049e86f7-8b13-47ec-b745-24d4d8291d6d-i0b0</td>\n",
       "      <td>6947ba6222b64b388db54213fc3616620da384dd6c8f44...</td>\n",
       "      <td>32</td>\n",
       "      <td>1990-02-12</td>\n",
       "      <td>M</td>\n",
       "      <td>4</td>\n",
       "      <td>AMARELA</td>\n",
       "      <td>120020</td>\n",
       "      <td>10</td>\n",
       "      <td>CRUZEIRO DO SUL</td>\n",
       "      <td>...</td>\n",
       "      <td>2.0</td>\n",
       "      <td>Faixa Etária</td>\n",
       "      <td>219VCD268W</td>\n",
       "      <td>ASTRAZENECA/FIOCRUZ</td>\n",
       "      <td>Organization/149</td>\n",
       "      <td>2022-02-17</td>\n",
       "      <td>2ª Dose</td>\n",
       "      <td>85</td>\n",
       "      <td>COVID-19 ASTRAZENECA/FIOCRUZ - COVISHIELD</td>\n",
       "      <td>Novo PNI</td>\n",
       "    </tr>\n",
       "    <tr>\n",
       "      <th>4</th>\n",
       "      <td>c45db6f5-9609-4373-94d6-c9fe481b80d9-i0b0</td>\n",
       "      <td>72773d3e386bf5d5fd75a0c1087d798b4943c1da32c7fd...</td>\n",
       "      <td>45</td>\n",
       "      <td>1976-03-13</td>\n",
       "      <td>M</td>\n",
       "      <td>4</td>\n",
       "      <td>AMARELA</td>\n",
       "      <td>120020</td>\n",
       "      <td>10</td>\n",
       "      <td>CRUZEIRO DO SUL</td>\n",
       "      <td>...</td>\n",
       "      <td>2.0</td>\n",
       "      <td>Faixa Etária</td>\n",
       "      <td>214VCD053W</td>\n",
       "      <td>ASTRAZENECA/FIOCRUZ</td>\n",
       "      <td>Organization/33781055000135</td>\n",
       "      <td>2021-06-19</td>\n",
       "      <td>1ª Dose</td>\n",
       "      <td>85</td>\n",
       "      <td>COVID-19 ASTRAZENECA/FIOCRUZ - COVISHIELD</td>\n",
       "      <td>Novo PNI</td>\n",
       "    </tr>\n",
       "  </tbody>\n",
       "</table>\n",
       "<p>5 rows × 32 columns</p>\n",
       "</div>"
      ],
      "text/plain": [
       "                                 document_id  \\\n",
       "0  1b1a212c-d36c-44ee-863b-28930124a6e2-i0b0   \n",
       "1  04699d58-a78e-48e0-83c1-69e6ffac7520-i0b0   \n",
       "2  2dff233e-aa4f-498f-8049-b76c9165ec67-i0b0   \n",
       "3  049e86f7-8b13-47ec-b745-24d4d8291d6d-i0b0   \n",
       "4  c45db6f5-9609-4373-94d6-c9fe481b80d9-i0b0   \n",
       "\n",
       "                                         paciente_id  paciente_idade  \\\n",
       "0  03e69d38230e8ce80dbe16815d95594f500ea4fa2da03e...              46   \n",
       "1  ed232b472a6fb74d5307a25121e0c9da80f18c02ea4bee...              19   \n",
       "2  659c8bd1f392eb84b057b21a7b196d78e3112dbfcb8a63...               5   \n",
       "3  6947ba6222b64b388db54213fc3616620da384dd6c8f44...              32   \n",
       "4  72773d3e386bf5d5fd75a0c1087d798b4943c1da32c7fd...              45   \n",
       "\n",
       "  paciente_dataNascimento paciente_enumSexoBiologico  paciente_racaCor_codigo  \\\n",
       "0              1974-12-06                          F                        3   \n",
       "1              2001-09-09                          M                       99   \n",
       "2              2017-05-02                          M                        1   \n",
       "3              1990-02-12                          M                        4   \n",
       "4              1976-03-13                          M                        4   \n",
       "\n",
       "  paciente_racaCor_valor  paciente_endereco_coIbgeMunicipio  \\\n",
       "0                  PARDA                             120040   \n",
       "1         SEM INFORMACAO                             120040   \n",
       "2                 BRANCA                             120040   \n",
       "3                AMARELA                             120020   \n",
       "4                AMARELA                             120020   \n",
       "\n",
       "   paciente_endereco_coPais paciente_endereco_nmMunicipio  ...  \\\n",
       "0                        10                    RIO BRANCO  ...   \n",
       "1                        10                    RIO BRANCO  ...   \n",
       "2                        10                    RIO BRANCO  ...   \n",
       "3                        10               CRUZEIRO DO SUL  ...   \n",
       "4                        10               CRUZEIRO DO SUL  ...   \n",
       "\n",
       "  vacina_categoria_codigo vacina_categoria_nome vacina_lote  \\\n",
       "0                     1.0          Comorbidades  213VCD042Z   \n",
       "1                     2.0          Faixa Etária      FA9096   \n",
       "2                     NaN                   NaN     210320A   \n",
       "3                     2.0          Faixa Etária  219VCD268W   \n",
       "4                     2.0          Faixa Etária  214VCD053W   \n",
       "\n",
       "  vacina_fabricante_nome  vacina_fabricante_referencia vacina_dataAplicacao  \\\n",
       "0    ASTRAZENECA/FIOCRUZ   Organization/33781055000135           2021-05-26   \n",
       "1                 PFIZER   Organization/00394544000851           2021-08-03   \n",
       "2       SINOVAC/BUTANTAN              Organization/152           2022-05-11   \n",
       "3    ASTRAZENECA/FIOCRUZ              Organization/149           2022-02-17   \n",
       "4    ASTRAZENECA/FIOCRUZ   Organization/33781055000135           2021-06-19   \n",
       "\n",
       "  vacina_descricao_dose  vacina_codigo  \\\n",
       "0               1ª Dose             85   \n",
       "1               1ª Dose             87   \n",
       "2               1ª Dose             86   \n",
       "3               2ª Dose             85   \n",
       "4               1ª Dose             85   \n",
       "\n",
       "                                 vacina_nome sistema_origem  \n",
       "0  COVID-19 ASTRAZENECA/FIOCRUZ - COVISHIELD       Novo PNI  \n",
       "1                COVID-19 PFIZER - COMIRNATY       Novo PNI  \n",
       "2      COVID-19 SINOVAC/BUTANTAN - CORONAVAC       Novo PNI  \n",
       "3  COVID-19 ASTRAZENECA/FIOCRUZ - COVISHIELD       Novo PNI  \n",
       "4  COVID-19 ASTRAZENECA/FIOCRUZ - COVISHIELD       Novo PNI  \n",
       "\n",
       "[5 rows x 32 columns]"
      ]
     },
     "execution_count": 2,
     "metadata": {},
     "output_type": "execute_result"
    }
   ],
   "source": [
    "#Exemplo de dados dos arquivos baixados\n",
    "import pandas as pd\n",
    "df = pd.read_csv('dados/Dados AC - Parte 1.csv', sep=';', nrows=5)\n",
    "df"
   ]
  },
  {
   "cell_type": "code",
   "execution_count": 3,
   "metadata": {},
   "outputs": [
    {
     "data": {
      "text/html": [
       "<div>\n",
       "<style scoped>\n",
       "    .dataframe tbody tr th:only-of-type {\n",
       "        vertical-align: middle;\n",
       "    }\n",
       "\n",
       "    .dataframe tbody tr th {\n",
       "        vertical-align: top;\n",
       "    }\n",
       "\n",
       "    .dataframe thead th {\n",
       "        text-align: right;\n",
       "    }\n",
       "</style>\n",
       "<table border=\"1\" class=\"dataframe\">\n",
       "  <thead>\n",
       "    <tr style=\"text-align: right;\">\n",
       "      <th></th>\n",
       "      <th>Unnamed: 0</th>\n",
       "      <th>UF</th>\n",
       "      <th>Município</th>\n",
       "      <th>Cód IBGE</th>\n",
       "      <th>Cód Região de Saúde</th>\n",
       "      <th>Nome da Região de Saúde</th>\n",
       "    </tr>\n",
       "  </thead>\n",
       "  <tbody>\n",
       "    <tr>\n",
       "      <th>0</th>\n",
       "      <td>1</td>\n",
       "      <td>AC</td>\n",
       "      <td>Acrelândia</td>\n",
       "      <td>120001</td>\n",
       "      <td>12002</td>\n",
       "      <td>Baixo Acre e Purus</td>\n",
       "    </tr>\n",
       "    <tr>\n",
       "      <th>1</th>\n",
       "      <td>2</td>\n",
       "      <td>AC</td>\n",
       "      <td>Assis Brasil</td>\n",
       "      <td>120005</td>\n",
       "      <td>12001</td>\n",
       "      <td>Alto Acre</td>\n",
       "    </tr>\n",
       "    <tr>\n",
       "      <th>2</th>\n",
       "      <td>3</td>\n",
       "      <td>AC</td>\n",
       "      <td>Brasiléia</td>\n",
       "      <td>120010</td>\n",
       "      <td>12001</td>\n",
       "      <td>Alto Acre</td>\n",
       "    </tr>\n",
       "    <tr>\n",
       "      <th>3</th>\n",
       "      <td>4</td>\n",
       "      <td>AC</td>\n",
       "      <td>Bujari</td>\n",
       "      <td>120013</td>\n",
       "      <td>12002</td>\n",
       "      <td>Baixo Acre e Purus</td>\n",
       "    </tr>\n",
       "    <tr>\n",
       "      <th>4</th>\n",
       "      <td>5</td>\n",
       "      <td>AC</td>\n",
       "      <td>Capixaba</td>\n",
       "      <td>120017</td>\n",
       "      <td>12002</td>\n",
       "      <td>Baixo Acre e Purus</td>\n",
       "    </tr>\n",
       "  </tbody>\n",
       "</table>\n",
       "</div>"
      ],
      "text/plain": [
       "   Unnamed: 0  UF     Município  Cód IBGE  Cód Região de Saúde  \\\n",
       "0           1  AC    Acrelândia    120001                12002   \n",
       "1           2  AC  Assis Brasil    120005                12001   \n",
       "2           3  AC     Brasiléia    120010                12001   \n",
       "3           4  AC        Bujari    120013                12002   \n",
       "4           5  AC      Capixaba    120017                12002   \n",
       "\n",
       "  Nome da Região de Saúde  \n",
       "0      Baixo Acre e Purus  \n",
       "1               Alto Acre  \n",
       "2               Alto Acre  \n",
       "3      Baixo Acre e Purus  \n",
       "4      Baixo Acre e Purus  "
      ]
     },
     "execution_count": 3,
     "metadata": {},
     "output_type": "execute_result"
    }
   ],
   "source": [
    "#Tabela Regiões de Saúde\n",
    "regioes_saude = pd.read_csv('Tabela_codigos.csv')\n",
    "regioes_saude.head()"
   ]
  },
  {
   "cell_type": "markdown",
   "metadata": {},
   "source": [
    "______"
   ]
  },
  {
   "cell_type": "markdown",
   "metadata": {},
   "source": [
    "### Parte 3: Carregamento dos Dados"
   ]
  },
  {
   "cell_type": "markdown",
   "metadata": {},
   "source": [
    "Para testar o tempo e o uso de memória ao carregar arquivos, foram utilizadas quatro diferentes bibliotecas em quatro diferentes casos de carregamento.\\\n",
    "As bibliotecas utilizadas foram três no python: pyarrow, pandas e datatable e uma biblioteca no R: vroom.\n",
    "\n",
    "\n",
    "Primeiro caso: carregamento do primeiro arquivo com todo seu conteúdo;\n",
    "Segundo caso: carregamento do primeiro arquivo filtrando somente as linhas com a palavra JANSSEN;\n",
    "Terceiro caso: carregamento de todos os arquivos filtrando somente as linhas com a palavra JANSSEN;\n",
    "Quarto caso: carregamento de apenas três colunas de dados de todos os arquivos.\n",
    "\n",
    "Os tempos e uso de memória de cada teste estão na tabela abaixo. Os melhores de cada coluna está marcado com **.\n",
    "<pre>\n",
    "Biblioteca:    Primeiro Arquivo|Primeiro só Janssen|   Todos só Janssen | Todos somente 3 colunas\n",
    "    Pandas:   2.7s -   991.9 MB|  0.7s -    35.3 MB| 16.7s -   733.6 MB |  44.0s -  2844.9 MB\n",
    " Datatable: **0.3s - **254.0 MB|  0.6s -   **8.7 MB| 14.4s -   184.5 MB |  8.8s -    379.7 MB\n",
    "   Pyarrow:   0.7s -   277.3 MB|  0.7s -     9.5 MB|**6.2s - **183.5 MB |**3.33s - **275.2 MB\n",
    " Vroom (R):  3.7.s -   256.4 MB|**0.5s -     9.8 MB| 41.8s -   223.7 MB |  Não realizado*\n",
    "</pre>\n",
    "*Não realizado pois o vroom não seleciona as colunas antes de carregar, fazendo com que o uso de memória seja bastante elevado.\n",
    "\n",
    "Ao se filtrar os dados antes de carregar percebe-se uma grande diferença no uso de memória. O arquivo de 269 MB, quando filtrado somente as vacinas janssen, se torna entre 9 - 35 MB na memória. No caso de todos os arquivos, ao filtrar somente três colunas, em vez de precisar carregar todos os 8 GB de dados, carregamos somente algumas centenas de MB.\n",
    "\n",
    "Comparando as bibliotecas do Python com o vroom, percebe-se que não se ganha eficiência ao se usar o R em relação às bibliotecas pyarrow e datatable, duas bibliotecas do Python com o foco em serem eficientes para uso em dados massivos.\n",
    "\n",
    "Pode-se reparar que a melhor biblioteca para carregamento dos dados é o Pyarrow. Além de ser mais rápido, consegue processar melhor os dados e gastar menos memória.\n",
    "O Pandas, a biblioteca mais usada por sua facilidade e quantidade de recursos, é o mais lento e também o que mais consome memória.\n",
    "\n",
    "Na prática, não precisamos usar somente uma das bibliotecas! Se usarmos o datatable ou o pyarrow para fazer a leitura dos dados e depois converter para o pandas,\n",
    "podemos utilizar o melhor dos dois mundos. Ao refazer o ultimo caso, obtemos o seguinte resultado:\n",
    "<pre>\n",
    "Pyarrow e Pandas : 15.0s - 171.6 MB\n",
    "Datatable e Pandas: 14.5s - 2583.9 MB\n",
    "</pre>\n",
    "Ao usar o datatable não foi possível diminuir o uso de memória, mas ao usar o Pyarrow o mesmo arquivo que tinha 2844 MB lido diretamente pelo pandas agora tem somente 171 MB e a leitura foi feita em bem menos tempo.\\\n",
    "A principal diferença entre o uso de memória entre o Pyarrow e o Datatable é que as colunas estão sendo lidas no pyarrow com o tipo de dado categorias, enquanto no datatable está como objeto, que gasta muito mais memória. (o tipo categorical ainda está sendo implementado no datatable, segundo a documentação)"
   ]
  },
  {
   "cell_type": "code",
   "execution_count": 1,
   "metadata": {},
   "outputs": [
    {
     "name": "stderr",
     "output_type": "stream",
     "text": [
      "<ipython-input-1-46f6743c5ddc>:18: DtypeWarning: Columns (7,8) have mixed types. Specify dtype option on import or set low_memory=False.\n",
      "  df = pd.read_csv('dados/Dados AC - Parte 1.csv', sep=';')\n"
     ]
    },
    {
     "name": "stdout",
     "output_type": "stream",
     "text": [
      "Primeiro Arquivo:  2.725611686706543 s\n",
      "Memoria 991.9269571304321 MB\n",
      "Primeiro Arquivo Janssen:  0.6681499481201172 s\n",
      "Memoria 35.342671394348145 MB\n"
     ]
    },
    {
     "name": "stderr",
     "output_type": "stream",
     "text": [
      "<ipython-input-1-46f6743c5ddc>:14: DtypeWarning: Columns (7,8) have mixed types. Specify dtype option on import or set low_memory=False.\n",
      "  return pd.read_csv(StringIO(outcome), sep=';', header=None)\n"
     ]
    },
    {
     "name": "stdout",
     "output_type": "stream",
     "text": [
      "Todos Janssen:  16.722751140594482 s\n",
      "Memoria 733.7106685638428 MB\n",
      "Todos Colunas: 44.33194828033447 s\n",
      "Memoria 2844.941979408264 MB\n"
     ]
    }
   ],
   "source": [
    "## Load PANDAS\n",
    "\n",
    "import time \n",
    "import pandas as pd\n",
    "import subprocess\n",
    "from io import StringIO\n",
    "\n",
    "def read_command_line(cmd: str):\n",
    "    try:\n",
    "        outcome = subprocess.run(cmd, shell = True, capture_output = True, text = True)\n",
    "        outcome = outcome.stdout\n",
    "    except:\n",
    "        raise\n",
    "    return pd.read_csv(StringIO(outcome), sep=';', header=None)\n",
    "\n",
    "#1\n",
    "st = time.time()\n",
    "df = pd.read_csv('dados/Dados AC - Parte 1.csv', sep=';')\n",
    "print('Primeiro Arquivo: ', time.time() - st, 's')\n",
    "print('Memoria', df.memory_usage(deep=True).sum()/1024**2, 'MB')\n",
    "\n",
    "#2\n",
    "st = time.time()\n",
    "df = read_command_line('findstr JANSSEN \"dados\\\\Dados AC - Parte 1.csv\"')\n",
    "print('Primeiro Arquivo Janssen: ',time.time() - st, 's')\n",
    "print('Memoria', df.memory_usage(deep=True).sum()/1024**2, 'MB')\n",
    "\n",
    "#3\n",
    "st = time.time()\n",
    "df = read_command_line('findstr /S JANSSEN \"dados\\\\*.csv\"')\n",
    "print('Todos Janssen: ',time.time() - st, 's')\n",
    "print('Memoria', df.memory_usage(deep=True).sum()/1024**2, 'MB')\n",
    "\n",
    "#4\n",
    "st = time.time()\n",
    "dados = os.listdir('dados')\n",
    "colunas = ['estabelecimento_municipio_codigo', 'vacina_descricao_dose', 'vacina_fabricante_nome']\n",
    "df = pd.DataFrame()\n",
    "for i in dados:\n",
    "    df = pd.concat([df, \n",
    "    pd.read_csv('dados/'+i, sep=';', usecols=colunas)], \n",
    "    ignore_index=True)\n",
    "print('Todos Colunas:', time.time() - st, 's')\n",
    "print('Memoria', df.memory_usage(deep=True).sum()/1024**2, 'MB')"
   ]
  },
  {
   "cell_type": "code",
   "execution_count": 3,
   "metadata": {},
   "outputs": [
    {
     "name": "stdout",
     "output_type": "stream",
     "text": [
      "Primeiro Arquivo:  0.36907505989074707 s\n",
      "Memoria 253.99288272857666 MB\n",
      "Primeiro Janssen:  0.5551242828369141 s\n",
      "Memoria 8.687557220458984 MB\n",
      "Todos Janssen: 14.381226778030396 s\n",
      "Memoria 184.49972820281982 MB\n",
      "Todos Colunas: 8.876991987228394 s\n",
      "Memoria 379.6887493133545 MB\n"
     ]
    }
   ],
   "source": [
    "## Load DATATABLE\n",
    "from datatable import dt, f\n",
    "import time\n",
    "\n",
    "st = time.time()\n",
    "dta = dt.fread('dados/Dados AC - Parte 1.csv', fill=True)\n",
    "print('Primeiro Arquivo: ', time.time() - st, 's')\n",
    "print('Memoria', dta.__sizeof__() / (1024**2), 'MB')\n",
    "\n",
    "st = time.time()\n",
    "dta = dt.fread(cmd='findstr JANSSEN \"dados\\\\Dados AC - Parte 1.csv\"', fill=True)\n",
    "print('Primeiro Janssen: ',time.time() - st,'s')\n",
    "print('Memoria', dta.__sizeof__() / (1024**2), 'MB')\n",
    "\n",
    "st = time.time()\n",
    "dta = dt.fread(cmd='findstr /S JANSSEN \"dados\\\\*.csv\"', fill=True)\n",
    "print('Todos Janssen:', time.time() - st, 's')\n",
    "print('Memoria', dta.__sizeof__()/ (1024**2), 'MB') \n",
    "\n",
    "st = time.time()\n",
    "dados = os.listdir('dados')\n",
    "dta = dt.rbind(dt.iread(['dados/'+ i for i in dados], columns={'estabelecimento_uf', 'vacina_descricao_dose', 'estabelecimento_municipio_codigo'}))\n",
    "print('Todos Colunas:', time.time() - st, 's')\n",
    "print('Memoria', dta.__sizeof__()/ (1024**2), 'MB') "
   ]
  },
  {
   "cell_type": "code",
   "execution_count": 1,
   "metadata": {},
   "outputs": [
    {
     "name": "stdout",
     "output_type": "stream",
     "text": [
      "Primeiro Arquivo:  0.868194580078125 s\n",
      "192.44877529144287 MB\n",
      "Primeiro Janssen:  0.8581926822662354 s\n",
      "7.645270347595215 MB\n",
      "Todos Janssen: 6.696502447128296 s\n",
      "183.87833786010742 MB\n",
      "Todos Colunas: 3.3337483406066895 s\n",
      "275.0513324737549 MB\n"
     ]
    }
   ],
   "source": [
    "#Load PYARROW\n",
    "\n",
    "import time\n",
    "import pyarrow.dataset as ds\n",
    "from pyarrow import csv\n",
    "pop = csv.ParseOptions(delimiter=\";\")\n",
    "\n",
    "st = time.time()\n",
    "dataset = ds.dataset(\"dados/Dados AC - Parte 1.csv\", format=ds.CsvFileFormat(parse_options=pop, convert_options=csv.ConvertOptions(null_values=['None',''], auto_dict_encode=True)))\n",
    "data = dataset.to_table()\n",
    "print('Primeiro Arquivo: ', time.time() - st, 's')\n",
    "print(data.nbytes / (1024**2), 'MB')\n",
    "\n",
    "st = time.time()\n",
    "dataset = ds.dataset(\"dados/Dados AC - Parte 1.csv\", format=ds.CsvFileFormat(parse_options=pop, convert_options=csv.ConvertOptions(null_values=['None',''], auto_dict_encode=True)))\n",
    "data = dataset.to_table(filter=ds.field(\"vacina_fabricante_nome\") == 'JANSSEN')\n",
    "print('Primeiro Janssen: ',time.time() - st,'s')\n",
    "print(data.nbytes / (1024**2), 'MB')\n",
    "\n",
    "st = time.time()\n",
    "dataset = ds.dataset(\"dados\", format=ds.CsvFileFormat(parse_options=pop, convert_options=csv.ConvertOptions(null_values=['None',''], auto_dict_encode=True)))\n",
    "data = dataset.to_table(filter=ds.field(\"vacina_fabricante_nome\") == 'JANSSEN')\n",
    "print('Todos Janssen:', time.time() - st, 's')\n",
    "print(data.nbytes / (1024**2), 'MB')\n",
    "\n",
    "st = time.time()\n",
    "dataset = ds.dataset(\"./dados\", format=ds.CsvFileFormat(parse_options=csv.ParseOptions(delimiter=';'), convert_options=csv.ConvertOptions(null_values=['None',''], auto_dict_encode=True)))\n",
    "data = dataset.to_table(columns=['estabelecimento_uf', 'vacina_descricao_dose', 'estabelecimento_municipio_codigo'])\n",
    "print('Todos Colunas:', time.time() - st, 's')\n",
    "print(data.nbytes / (1024**2), 'MB')"
   ]
  },
  {
   "cell_type": "code",
   "execution_count": 2,
   "metadata": {},
   "outputs": [
    {
     "name": "stdout",
     "output_type": "stream",
     "text": [
      "Pyarrow e Pandas: 14.98912501335144 s\n",
      "171.26454544067383 MB\n"
     ]
    }
   ],
   "source": [
    "#Load Pyarrow depois converte para pandas\n",
    "\n",
    "import pyarrow.dataset as ds\n",
    "from pyarrow import csv\n",
    "import time\n",
    "\n",
    "st = time.time()\n",
    "dataset = ds.dataset(\"./dados\", \n",
    "        format=ds.CsvFileFormat(parse_options=csv.ParseOptions(delimiter=';'), convert_options=csv.ConvertOptions(null_values=['None',''], auto_dict_encode=True)))\n",
    "data = dataset.scanner(columns=['estabelecimento_uf', 'vacina_descricao_dose', 'estabelecimento_municipio_codigo']).to_table().to_pandas()\n",
    "print('Pyarrow e Pandas:', time.time() - st, 's')\n",
    "print(data.memory_usage(deep=True).sum()/1024**2, 'MB')"
   ]
  },
  {
   "cell_type": "code",
   "execution_count": 1,
   "metadata": {},
   "outputs": [
    {
     "data": {
      "text/html": [
       "<style type='text/css'>\n",
       ".datatable table.frame { margin-bottom: 0; }\n",
       ".datatable table.frame thead { border-bottom: none; }\n",
       ".datatable table.frame tr.coltypes td {  color: #FFFFFF;  line-height: 6px;  padding: 0 0.5em;}\n",
       ".datatable .bool    { background: #DDDD99; }\n",
       ".datatable .object  { background: #565656; }\n",
       ".datatable .int     { background: #5D9E5D; }\n",
       ".datatable .float   { background: #4040CC; }\n",
       ".datatable .str     { background: #CC4040; }\n",
       ".datatable .time    { background: #40CC40; }\n",
       ".datatable .row_index {  background: var(--jp-border-color3);  border-right: 1px solid var(--jp-border-color0);  color: var(--jp-ui-font-color3);  font-size: 9px;}\n",
       ".datatable .frame tbody td { text-align: left; }\n",
       ".datatable .frame tr.coltypes .row_index {  background: var(--jp-border-color0);}\n",
       ".datatable th:nth-child(2) { padding-left: 12px; }\n",
       ".datatable .hellipsis {  color: var(--jp-cell-editor-border-color);}\n",
       ".datatable .vellipsis {  background: var(--jp-layout-color0);  color: var(--jp-cell-editor-border-color);}\n",
       ".datatable .na {  color: var(--jp-cell-editor-border-color);  font-size: 80%;}\n",
       ".datatable .sp {  opacity: 0.25;}\n",
       ".datatable .footer { font-size: 9px; }\n",
       ".datatable .frame_dimensions {  background: var(--jp-border-color3);  border-top: 1px solid var(--jp-border-color0);  color: var(--jp-ui-font-color3);  display: inline-block;  opacity: 0.6;  padding: 1px 10px 1px 5px;}\n",
       ".datatable .frame thead tr.colnames {  background-image: url('data:image/png;base64,iVBORw0KGgoAAAANSUhEUgAAABwAAAA4CAYAAADuMJi0AAAGR0lEQVR42rVZ21IbRxBtCbQrkIR2dQVjsLmDLBsET3nTQ8ouYRkQVf6e/E9+Im958qMfkgoXAaKSSj6C9Jnd2R2NeiRSRaZqitVOT5+Z6dNnWoKGlN94JFp8Ipofkb/7SOXjGyp8wF+z35K3f0uUp/GW4XfLQ8v2gefj3ZCCzojoNfue+43o1Q3l3xB/yA3JO7jnF2pCLnI+pNyx/qw7L+SQ7T2N9p2f8c60QcfcK6KGXsAd+ZvA4LlZYuSSAoOhMs5vwJkEGDlbPMaJoA+FcQ0IH38QLWkbAFLkOOhoMF5tU6/eBRhNjro0ZgKiPRAt3FLhCO/vqdgmNTm32LkmKpvBmQY4q5uAaAgbwDBG2BVv3bfI8KKAMWj2kfw9+pkZREIbEql4ST1x7hgHIANkbJ//MF8mAH/ilTCJ2tIi4ASr1IC3VNqXHKOxjy34mgoImnOQtx1g81fkqTiMOBVGcTogNhiT5iBHET8R8C+iApJUmgim3SQAXhsLQz7ee2G8gOAQNtJckBEplADiAxtX+G9NmhDl0qJKnTvyWlAMPYZnvIviGXRg6/Dh824DBXhP/tbfREXJEIvQ+aaPGjG7pvw6r3xdx+9hqb4dgZaP2XmdHO2K/B0c1+oUph6k8kShBryl/Ft0DYgjTlOieOACHFFpVyUl72T9V3cM1jUoYvxIC2vpCSys/ck70mDYuYvdvKjlMdKAUThneWVU1aAsyjv6PURDiwNsHGBZzY+JtAAgE2TFxdRHJdyIp/f+zqu09M5cDP2F08Ukkpj4YNSdX950HY2pNCCUK/Hhx5ZMBfjNSEzdsIihVzzAMdn9dz4eDYhnyQb9SSCiAryiJcQk82LiTbJ4x2FZJaUenpKnzP95WyDf4Y+QN9EFHHSeDLGdBjjKNQ5vKHf4XMA7KrY0y0GEObBOO/8e1ywuQExOHXktuQyJALEBpcEqhwtHqgiDuCK5b6i0p2MQpcckIIoh+6hYgTZtO8xlMi6O4tKCF/kOGHEg/W0UUpHW0ZoGNZ1ExZWcn7EErgwt4uj50E/sFBjXXIayWvh7WryjasxarZKssXon0zxvvkc32Q0bqbBCuZiKt9dWFysfQefeL29JYFaeztX6tePaZdz5mYx8+6Zq3Mk0wXECQxlhdzgS2wjBHju3j1RIgKyOMdNUE8X0+RAdbSapS11MRCv1SzUXmO6wGZe2SQYrv2MvCSWEv2VODE6DN7bz8ufypgQKW7uQskFTQHULLKyaEyrnlZbgOGLrV5qrn9U79jjm2HJmgkaVN98AfBub91lGPLZBqdroN5LYgjSu4zYZDDHXZOIPC691HqrWI1900I8qLzgKP4ft8DxEWigprPfrO+KcXno9gZz4jjGewWdUcpGCj0qVFuGPYbl2VturndZ2qRvlL8acDO6lF/DY/VjsFesiUK+ypJ+r/ep+cJkSQxEK4PG4WozgA75TYrDDqStE69K8/mzGEM+JXTeqvmedEElMmwCMm2SLd6bNNF9su02zEtoW6nAQtpMj5Gd7fKa//wqonF7UdtHFsVn+6hf1o7AfriPH7M6EeIUEF5zKVxXbYo7kS/OEtOqDYZKPoBsETIixn0uYrasThmzDkhdKPkz2EnaX0HdQbIgr59vAdGYDqjHrxkjS7WOxkTD8sqEqhiwcJETgBYigrBqF08KyDaje9SZ/I1A7MzaTzMGDEulPtZUkuKcyIRAjxEJPVrnVlb/9wkfij31D/pQt1IN+iL8bGJcstBIO7Y5VI/cwDqURbXhMuJxBqD0KLoK3esWFs0Jz5i5ZvJUAfFJMFb9XmGIOnzGpijpcWYCaMqXSQWp8EnCABepQ0Elyi4wfKfsw78ikIqif1pe1AGPlLmojl1SKxHHXp1L+Ut7AmDQHvhI5xHGi4EooO2BR7k78PEkJOdL7cAxQUZ/Tyclu9gnfwGgOmm2lNHGNmZXsq4Pqgc1EG1ATrvKl8s4R9ywwnqulGUnaRLVhxy8v3ieUwy2hbooT68uscW++DCDH0WSzuoyN2D4LUJ/tLECbcSKznwMIFs0ChF4mRTCnQbIIfk4SHJo6A9BMuTnXTs3Ku/KxsgZWqzuSe+Os8cEUfnMBY6UF5gi3SUbd5K7vDjq5WW0UENJlRsWn4sy21Er/E/AvPQSFHy1p4fgAAAAASUVORK5CYII=');  background-repeat: repeat-x;  background-size: 14px;  height: 28px;}\n",
       "</style>\n"
      ],
      "text/plain": [
       "<IPython.core.display.HTML object>"
      ]
     },
     "metadata": {},
     "output_type": "display_data"
    },
    {
     "name": "stdout",
     "output_type": "stream",
     "text": [
      "Datatable e Pandas: 14.537261724472046 s\n",
      "2583.9765396118164 MB\n"
     ]
    }
   ],
   "source": [
    "#Load datatable depois converte para pandas\n",
    "from datatable import dt,f\n",
    "import time\n",
    "dados = os.listdir('dados')\n",
    "\n",
    "st = time.time()\n",
    "data = dt.rbind(dt.iread(['dados/'+ i for i in dados], columns={'estabelecimento_uf', 'vacina_descricao_dose', 'estabelecimento_municipio_codigo'}))\n",
    "#data = data[:,dt.count(),dt.by(f[:])].to_pandas()\n",
    "data = data.to_pandas()\n",
    "print('Datatable e Pandas:', time.time() - st, 's')\n",
    "print(data.memory_usage(deep=True).sum()/1024**2, 'MB')"
   ]
  },
  {
   "cell_type": "code",
   "execution_count": null,
   "metadata": {},
   "outputs": [],
   "source": [
    "#Load VROOM (R)\n",
    "pacman::p_load(vroom, tictoc)\n",
    "\n",
    "nomes_arquivos <- list.files(\"dados\")\n",
    "\n",
    "#Primeiro Arquivo\n",
    "tic('dados_vroom')\n",
    "dados_vroom <- vroom(paste('Dados/',nomes_arquivos[1],sep=''), \n",
    "                     locale = locale(\"br\", encoding = \"latin1\"),\n",
    "                     num_threads = 3, show_col_types=FALSE)\n",
    "toc()\n",
    "print(object.size(dados_vroom))\n",
    "colunas <- names(dados_vroom)\n",
    "\n",
    "# Primeiro Arquivo Janssen\n",
    "tic('dados_janssen')\n",
    "comando_grep <- 'findstr JANSSEN \"dados\\\\Dados AC - Parte 1.csv\"'\n",
    "dados_vroom <- vroom(pipe(comando_grep), col_names = colunas,\n",
    "                     locale = locale(\"br\", encoding = \"latin1\"),\n",
    "                     num_threads = 3, show_col_types=FALSE)\n",
    "\n",
    "toc()\n",
    "print(object.size(dados_vroom))\n",
    "\n",
    "#Todos Janssen\n",
    "tic('todos_janssen')\n",
    "comando_grep <- 'findstr /S JANSSEN \"dados\\\\*.csv\"'\n",
    "dados_vroom <- vroom(pipe(comando_grep), col_names = colunas,\n",
    "                     locale = locale(\"br\", encoding = \"latin1\"),\n",
    "                     num_threads = 3, show_col_types=FALSE)\n",
    "\n",
    "toc()\n",
    "print(object.size(dados_vroom))\n",
    "\n",
    "#Todos selecionando colunas\n",
    "#tic('todos_colunas')\n",
    "#dados_vroom <- vroom(paste('Dados/',nomes_arquivos,sep=''), col_select=c('estabelecimento_uf', 'vacina_descricao_dose','estabelecimento_municipio_codigo'),\n",
    "#                     locale = locale(\"br\", encoding = \"latin1\"),\n",
    "#                     num_threads = 3, show_col_types=FALSE)\n",
    "#toc()\n",
    "#print(object.size(dados_vroom) / 1024^2)\n",
    "\n",
    "print(file.size(paste('Dados/',nomes_arquivos[1],sep='')) / 1024^2)\n",
    "print(sum(sapply(paste('dados/', nomes_arquivos,sep=''), file.size)) / 1024^2)"
   ]
  },
  {
   "cell_type": "markdown",
   "metadata": {},
   "source": [
    "__________"
   ]
  },
  {
   "cell_type": "markdown",
   "metadata": {},
   "source": [
    "##### Parte 4: Manipulação dos Dados"
   ]
  },
  {
   "cell_type": "markdown",
   "metadata": {},
   "source": [
    "Nesta parte, é realizada, usando dois métodos diferentes, as seguintes manipulações dos dados:\n",
    "1) Carregamento das colunas 'estabelecimento_uf', 'vacina_descricao_dose', 'estabelecimento_municipio_codigo' de todos os arquivos\n",
    "2) Leitura do csv com os codigos das regiões de saúde\n",
    "3) Junção das duas tabelas anteriores\n",
    "4) Contagem da quantidade de vacinados por região e divisão em faixas alta e baixa\n",
    "5) Criação da tabela com as cinco regiões com menos vacinados em cada faixa\n",
    "\n",
    "A manipulação foi feita de duas formas: utilizando a biblioteca datatable e utilizando as bibliotecas arrow e pandas juntas.\\\n",
    "A manipulação no datatable teve uma média de 12s, um pico de uso de memória de 4GB e o resultado gasta 2MB da memória.\n",
    "A manipulação no arrow/pandas teve uma média de 16s, um pico menor de uso de memória (2GB) e o resultado gasta 8 MB.\n",
    "\n",
    "Ao analisar o tempo gasto em cada linha, podemos perceber a diferença no tempo nas etapas 2-5 da manipulação.\\\n",
    "Enquanto o datatable usa 17,8% do seu tempo na manipulação dos dados, o pandas utiliza 35,8%.\n",
    "\n",
    "As duas implementação tem suas vantagens e desvantagens, a melhor depende se o foco de eficiência é no tempo ou no uso de memória.\n",
    "\n"
   ]
  },
  {
   "cell_type": "code",
   "execution_count": 1,
   "metadata": {},
   "outputs": [
    {
     "data": {
      "text/html": [
       "<style type='text/css'>\n",
       ".datatable table.frame { margin-bottom: 0; }\n",
       ".datatable table.frame thead { border-bottom: none; }\n",
       ".datatable table.frame tr.coltypes td {  color: #FFFFFF;  line-height: 6px;  padding: 0 0.5em;}\n",
       ".datatable .bool    { background: #DDDD99; }\n",
       ".datatable .object  { background: #565656; }\n",
       ".datatable .int     { background: #5D9E5D; }\n",
       ".datatable .float   { background: #4040CC; }\n",
       ".datatable .str     { background: #CC4040; }\n",
       ".datatable .time    { background: #40CC40; }\n",
       ".datatable .row_index {  background: var(--jp-border-color3);  border-right: 1px solid var(--jp-border-color0);  color: var(--jp-ui-font-color3);  font-size: 9px;}\n",
       ".datatable .frame tbody td { text-align: left; }\n",
       ".datatable .frame tr.coltypes .row_index {  background: var(--jp-border-color0);}\n",
       ".datatable th:nth-child(2) { padding-left: 12px; }\n",
       ".datatable .hellipsis {  color: var(--jp-cell-editor-border-color);}\n",
       ".datatable .vellipsis {  background: var(--jp-layout-color0);  color: var(--jp-cell-editor-border-color);}\n",
       ".datatable .na {  color: var(--jp-cell-editor-border-color);  font-size: 80%;}\n",
       ".datatable .sp {  opacity: 0.25;}\n",
       ".datatable .footer { font-size: 9px; }\n",
       ".datatable .frame_dimensions {  background: var(--jp-border-color3);  border-top: 1px solid var(--jp-border-color0);  color: var(--jp-ui-font-color3);  display: inline-block;  opacity: 0.6;  padding: 1px 10px 1px 5px;}\n",
       "</style>\n"
      ],
      "text/plain": [
       "<IPython.core.display.HTML object>"
      ]
     },
     "metadata": {},
     "output_type": "display_data"
    }
   ],
   "source": [
    "%load_ext memory_profiler\n",
    "%load_ext line_profiler\n",
    "from datatable import dt, f\n",
    "import pyarrow.dataset as ds\n",
    "from pyarrow import csv\n",
    "import pandas as pd\n",
    "import numpy as np\n",
    "import time"
   ]
  },
  {
   "cell_type": "code",
   "execution_count": 2,
   "metadata": {},
   "outputs": [],
   "source": [
    "def datatable_analise():\n",
    "    dados = os.listdir('dados')\n",
    "    #1\n",
    "    data = dt.rbind(dt.iread(['dados/'+ i for i in dados], columns={'estabelecimento_uf', 'vacina_descricao_dose', 'estabelecimento_municipio_codigo'}))\n",
    "    #2\n",
    "    cod = dt.fread('Tabela_codigos.csv')\n",
    "    cod.names = {'Cód IBGE' : 'estabelecimento_municipio_codigo', 'Cód Região de Saúde': 'code_health_region'}\n",
    "    cod.key = 'estabelecimento_municipio_codigo'\n",
    "    #3\n",
    "    data = data[:,:,dt.join(cod)]\n",
    "    #4\n",
    "    data = data[:,dt.count(), dt.by('code_health_region','Nome da Região de Saúde', 'estabelecimento_uf')]\n",
    "    data['Faixa'] =  dt.ifelse(f.count > dt.median(f.count), \"Alta\", \"Baixa\")\n",
    "    data = data[:,:,dt.sort(-f.count)]\n",
    "    #5\n",
    "    tabela = data[-5:, :, dt.by('Faixa')]\n",
    "    return data, tabela"
   ]
  },
  {
   "cell_type": "code",
   "execution_count": 2,
   "metadata": {},
   "outputs": [],
   "source": [
    "def arrowpandas_analise():\n",
    "    #1\n",
    "    dataset = ds.dataset(\"./dados\", \n",
    "        format=ds.CsvFileFormat(parse_options=csv.ParseOptions(delimiter=';'), convert_options=csv.ConvertOptions(null_values=['None',''], auto_dict_encode=True)))\n",
    "    data = dataset.scanner(columns=['estabelecimento_uf', 'vacina_descricao_dose', 'estabelecimento_municipio_codigo']).to_table().to_pandas()\n",
    "    #2\n",
    "    cod = pd.read_csv('Tabela_codigos.csv').rename(columns={'Cód IBGE': 'estabelecimento_municipio_codigo', 'Cód Região de Saúde': 'code_health_region'})\n",
    "    #3\n",
    "    data = data.merge(cod)\n",
    "    #4\n",
    "    data = data.groupby(['code_health_region','Nome da Região de Saúde', 'UF']).size().reset_index()\n",
    "    data = data.sort_values(0).rename(columns={0:'count'}).sort_values('count', ascending=False)\n",
    "    data['Faixa'] = np.where(data['count'] > data['count'].median(), 'Alta', 'Baixa')\n",
    "    #5\n",
    "    tabela = data.groupby('Faixa').tail(5)\n",
    "\n",
    "    return data, tabela\n"
   ]
  },
  {
   "cell_type": "code",
   "execution_count": 6,
   "metadata": {},
   "outputs": [
    {
     "name": "stdout",
     "output_type": "stream",
     "text": [
      "Tempo 13.283973932266235 s\n",
      "Tempo 12.500800132751465 s\n",
      "Tempo 12.511801481246948 s\n",
      "Tempo 12.038696050643921 s\n",
      "Tempo 11.815646171569824 s\n",
      "[1.2587890625, 1.2587890625]\n"
     ]
    }
   ],
   "source": [
    "#Repetição da Manipulação\n",
    "for i in range(5):\n",
    "    st = time.time()\n",
    "    data = datatable_analise()\n",
    "    print('Tempo', time.time() - st, 's')\n",
    "print([i.__sizeof__()/1024 for i in data])"
   ]
  },
  {
   "cell_type": "code",
   "execution_count": null,
   "metadata": {},
   "outputs": [],
   "source": [
    "#Repetição da Manipulação\n",
    "for i in range(5):\n",
    "    st = time.time()\n",
    "    data = arrowpandas_analise()\n",
    "    print('Tempo', time.time() - st, 's')\n",
    "print([i.memory_usage(deep=True).sum()/1024 for i in data])"
   ]
  },
  {
   "cell_type": "code",
   "execution_count": 20,
   "metadata": {},
   "outputs": [
    {
     "name": "stdout",
     "output_type": "stream",
     "text": [
      "peak memory: 4077.14 MiB, increment: 2811.18 MiB\n"
     ]
    }
   ],
   "source": [
    "#Uso de memória\n",
    "%memit datatable_analise()"
   ]
  },
  {
   "cell_type": "code",
   "execution_count": 21,
   "metadata": {},
   "outputs": [
    {
     "name": "stdout",
     "output_type": "stream",
     "text": [
      "peak memory: 3128.36 MiB, increment: 1859.41 MiB\n"
     ]
    }
   ],
   "source": [
    "#Uso de memória\n",
    "%memit arrowpandas_analise()"
   ]
  },
  {
   "cell_type": "code",
   "execution_count": 35,
   "metadata": {},
   "outputs": [
    {
     "name": "stdout",
     "output_type": "stream",
     "text": [
      "Timer unit: 1e-07 s\n",
      "\n",
      "Total time: 17.5116 s\n",
      "File: <ipython-input-2-8f8a1d65bf9f>\n",
      "Function: datatable_analise at line 1\n",
      "\n",
      "Line #      Hits         Time  Per Hit   % Time  Line Contents\n",
      "==============================================================\n",
      "     1                                           def datatable_analise():\n",
      "     2         1       1976.0   1976.0      0.0      dados = os.listdir('dados')\n",
      "     3                                               #1\n",
      "     4         1  143892458.0 143892458.0     82.2      data = dt.rbind(dt.iread(['dados/'+ i for i in dados], columns={'estabelecimento_uf', 'vacina_descricao_dose', 'estabelecimento_municipio_codigo'}))\n",
      "     5                                               #2\n",
      "     6         1      15966.0  15966.0      0.0      cod = dt.fread('Tabela_codigos.csv')\n",
      "     7         1        104.0    104.0      0.0      cod.names = {'Cód IBGE' : 'estabelecimento_municipio_codigo', 'Cód Região de Saúde': 'code_health_region'}\n",
      "     8         1      11011.0  11011.0      0.0      cod.key = 'estabelecimento_municipio_codigo'\n",
      "     9                                               #3\n",
      "    10         1    1811488.0 1811488.0      1.0      data = data[:,:,dt.join(cod)]\n",
      "    11                                               #4\n",
      "    12         1   29380810.0 29380810.0     16.8      data = data[:,dt.count(), dt.by('code_health_region','Nome da Região de Saúde', 'estabelecimento_uf')]\n",
      "    13         1        848.0    848.0      0.0      data['Faixa'] =  dt.ifelse(f.count > dt.median(f.count), \"Alta\", \"Baixa\")\n",
      "    14         1        593.0    593.0      0.0      data = data[:,:,dt.sort(-f.count)]\n",
      "    15                                               #5\n",
      "    16         1        542.0    542.0      0.0      tabela = data[-5:, :, dt.by('Faixa')]\n",
      "    17         1          5.0      5.0      0.0      return data, tabela"
     ]
    }
   ],
   "source": [
    "#Tempo gasto por linha\n",
    "%lprun -f datatable_analise datatable_analise()"
   ]
  },
  {
   "cell_type": "code",
   "execution_count": 36,
   "metadata": {},
   "outputs": [
    {
     "name": "stdout",
     "output_type": "stream",
     "text": [
      "Timer unit: 1e-07 s\n",
      "\n",
      "Total time: 14.5649 s\n",
      "File: <ipython-input-10-a4cf9ee9dec1>\n",
      "Function: arrowpandas_analise at line 1\n",
      "\n",
      "Line #      Hits         Time  Per Hit   % Time  Line Contents\n",
      "==============================================================\n",
      "     1                                           def arrowpandas_analise():\n",
      "     2                                               #1\n",
      "     3         1      99205.0  99205.0      0.1      dataset = ds.dataset(\"./dados\", \n",
      "     4         1        378.0    378.0      0.0          format=ds.CsvFileFormat(parse_options=csv.ParseOptions(delimiter=';'), convert_options=csv.ConvertOptions(null_values=['None',''], auto_dict_encode=True)))\n",
      "     5         1   93561357.0 93561357.0     64.2      data = dataset.scanner(columns=['estabelecimento_uf', 'vacina_descricao_dose', 'estabelecimento_municipio_codigo']).to_table().to_pandas()\n",
      "     6                                               #2\n",
      "     7         1     100620.0 100620.0      0.1      cod = pd.read_csv('Tabela_codigos.csv').rename(columns={'Cód IBGE': 'estabelecimento_municipio_codigo', 'Cód Região de Saúde': 'code_health_region'})\n",
      "     8                                               #3\n",
      "     9         1   26488827.0 26488827.0     18.2      data = data.merge(cod)\n",
      "    10                                               #4\n",
      "    11         1   25356247.0 25356247.0     17.4      data = data.groupby(['code_health_region','Nome da Região de Saúde', 'UF']).size().reset_index()\n",
      "    12         1      21206.0  21206.0      0.0      data = data.sort_values(0).rename(columns={0:'count'}).sort_values('count', ascending=False)\n",
      "    13         1       9408.0   9408.0      0.0      data['Faixa'] = np.where(data['count'] > data['count'].median(), 'Alta', 'Baixa')\n",
      "    14                                               #5\n",
      "    15         1      12148.0  12148.0      0.0      tabela = data.groupby('Faixa').tail(5)\n",
      "    16                                           \n",
      "    17         1          3.0      3.0      0.0      return data, tabela"
     ]
    }
   ],
   "source": [
    "#Tempo gasto por linha\n",
    "%lprun -f arrowpandas_analise arrowpandas_analise()"
   ]
  },
  {
   "cell_type": "markdown",
   "metadata": {},
   "source": [
    "____________"
   ]
  },
  {
   "cell_type": "markdown",
   "metadata": {},
   "source": [
    "##### Parte 5: Visualização dos Dados"
   ]
  },
  {
   "cell_type": "markdown",
   "metadata": {},
   "source": [
    "Para entender os resultados da análise vou utilizar a biblioteca geobr que visualiza informações no mapa do Brasil."
   ]
  },
  {
   "cell_type": "code",
   "execution_count": 80,
   "metadata": {},
   "outputs": [],
   "source": [
    "import warnings\n",
    "warnings.simplefilter(action='ignore', category=FutureWarning)\n",
    "import geobr\n",
    "import matplotlib.pyplot as plt\n",
    "\n",
    "data, tabela = arrowpandas_analise()\n",
    "state = geobr.read_health_region()\n",
    "state['code_health_region'] = state['code_health_region'].astype('int')\n",
    "geo = state.merge(data).dropna()"
   ]
  },
  {
   "cell_type": "code",
   "execution_count": 81,
   "metadata": {},
   "outputs": [
    {
     "data": {
      "text/plain": [
       "Index(['code_health_region', 'name_health_region', 'code_state',\n",
       "       'abbrev_state', 'name_state', 'geometry', 'Nome da Região de Saúde',\n",
       "       'UF', 'count', 'Faixa'],\n",
       "      dtype='object')"
      ]
     },
     "execution_count": 81,
     "metadata": {},
     "output_type": "execute_result"
    }
   ],
   "source": [
    "geo.columns"
   ]
  },
  {
   "cell_type": "markdown",
   "metadata": {},
   "source": [
    "Na figura abaixo, percebe-se que os dados são de quatro estados brasileiros e cada estado é dividido em regiões, conjuntos de municípios que tem uma infraestrutura de saúde ligadas e participam do mesmo planejamento de saúde. Todos os estados têm regiões com alto e baixo número de vacinados."
   ]
  },
  {
   "cell_type": "code",
   "execution_count": 95,
   "metadata": {},
   "outputs": [
    {
     "data": {
      "text/html": [
       "<div>\n",
       "<style scoped>\n",
       "    .dataframe tbody tr th:only-of-type {\n",
       "        vertical-align: middle;\n",
       "    }\n",
       "\n",
       "    .dataframe tbody tr th {\n",
       "        vertical-align: top;\n",
       "    }\n",
       "\n",
       "    .dataframe thead th {\n",
       "        text-align: right;\n",
       "    }\n",
       "</style>\n",
       "<table border=\"1\" class=\"dataframe\">\n",
       "  <thead>\n",
       "    <tr style=\"text-align: right;\">\n",
       "      <th></th>\n",
       "      <th>code_health_region</th>\n",
       "      <th>Nome da Região de Saúde</th>\n",
       "      <th>UF</th>\n",
       "      <th>count</th>\n",
       "      <th>Faixa</th>\n",
       "    </tr>\n",
       "  </thead>\n",
       "  <tbody>\n",
       "    <tr>\n",
       "      <th>3</th>\n",
       "      <td>13001</td>\n",
       "      <td>Manaus, Entorno e Alto Rio Negro</td>\n",
       "      <td>AM</td>\n",
       "      <td>5589098</td>\n",
       "      <td>Alta</td>\n",
       "    </tr>\n",
       "    <tr>\n",
       "      <th>15</th>\n",
       "      <td>27001</td>\n",
       "      <td>1ª Região de Saúde</td>\n",
       "      <td>AL</td>\n",
       "      <td>2800994</td>\n",
       "      <td>Alta</td>\n",
       "    </tr>\n",
       "    <tr>\n",
       "      <th>1</th>\n",
       "      <td>12002</td>\n",
       "      <td>Baixo Acre e Purus</td>\n",
       "      <td>AC</td>\n",
       "      <td>1120283</td>\n",
       "      <td>Alta</td>\n",
       "    </tr>\n",
       "    <tr>\n",
       "      <th>21</th>\n",
       "      <td>27007</td>\n",
       "      <td>7ª Região de Saúde</td>\n",
       "      <td>AL</td>\n",
       "      <td>1017778</td>\n",
       "      <td>Alta</td>\n",
       "    </tr>\n",
       "    <tr>\n",
       "      <th>12</th>\n",
       "      <td>16001</td>\n",
       "      <td>Área Central</td>\n",
       "      <td>AP</td>\n",
       "      <td>940726</td>\n",
       "      <td>Alta</td>\n",
       "    </tr>\n",
       "    <tr>\n",
       "      <th>7</th>\n",
       "      <td>13005</td>\n",
       "      <td>Baixo Amazonas</td>\n",
       "      <td>AM</td>\n",
       "      <td>531866</td>\n",
       "      <td>Alta</td>\n",
       "    </tr>\n",
       "    <tr>\n",
       "      <th>23</th>\n",
       "      <td>27009</td>\n",
       "      <td>9ª Região de Saúde</td>\n",
       "      <td>AL</td>\n",
       "      <td>457909</td>\n",
       "      <td>Alta</td>\n",
       "    </tr>\n",
       "    <tr>\n",
       "      <th>4</th>\n",
       "      <td>13002</td>\n",
       "      <td>Rio Negro e Solimões</td>\n",
       "      <td>AM</td>\n",
       "      <td>457896</td>\n",
       "      <td>Alta</td>\n",
       "    </tr>\n",
       "    <tr>\n",
       "      <th>2</th>\n",
       "      <td>12003</td>\n",
       "      <td>Juruá e Tarauacá/Envira</td>\n",
       "      <td>AC</td>\n",
       "      <td>415253</td>\n",
       "      <td>Alta</td>\n",
       "    </tr>\n",
       "    <tr>\n",
       "      <th>19</th>\n",
       "      <td>27005</td>\n",
       "      <td>5ª Região de Saúde</td>\n",
       "      <td>AL</td>\n",
       "      <td>408863</td>\n",
       "      <td>Alta</td>\n",
       "    </tr>\n",
       "    <tr>\n",
       "      <th>20</th>\n",
       "      <td>27006</td>\n",
       "      <td>6ª Região de Saúde</td>\n",
       "      <td>AL</td>\n",
       "      <td>400125</td>\n",
       "      <td>Alta</td>\n",
       "    </tr>\n",
       "    <tr>\n",
       "      <th>14</th>\n",
       "      <td>16003</td>\n",
       "      <td>Área Sudoeste</td>\n",
       "      <td>AP</td>\n",
       "      <td>378395</td>\n",
       "      <td>Alta</td>\n",
       "    </tr>\n",
       "    <tr>\n",
       "      <th>6</th>\n",
       "      <td>13004</td>\n",
       "      <td>Médio Amazonas</td>\n",
       "      <td>AM</td>\n",
       "      <td>362121</td>\n",
       "      <td>Baixa</td>\n",
       "    </tr>\n",
       "    <tr>\n",
       "      <th>17</th>\n",
       "      <td>27003</td>\n",
       "      <td>3ª Região de Saúde</td>\n",
       "      <td>AL</td>\n",
       "      <td>360034</td>\n",
       "      <td>Baixa</td>\n",
       "    </tr>\n",
       "    <tr>\n",
       "      <th>11</th>\n",
       "      <td>13009</td>\n",
       "      <td>Alto Solimões</td>\n",
       "      <td>AM</td>\n",
       "      <td>358523</td>\n",
       "      <td>Baixa</td>\n",
       "    </tr>\n",
       "    <tr>\n",
       "      <th>22</th>\n",
       "      <td>27008</td>\n",
       "      <td>8ª Região de Saúde</td>\n",
       "      <td>AL</td>\n",
       "      <td>328125</td>\n",
       "      <td>Baixa</td>\n",
       "    </tr>\n",
       "    <tr>\n",
       "      <th>24</th>\n",
       "      <td>27010</td>\n",
       "      <td>10ª Região de Saúde</td>\n",
       "      <td>AL</td>\n",
       "      <td>317642</td>\n",
       "      <td>Baixa</td>\n",
       "    </tr>\n",
       "    <tr>\n",
       "      <th>5</th>\n",
       "      <td>13003</td>\n",
       "      <td>Rio Madeira</td>\n",
       "      <td>AM</td>\n",
       "      <td>304650</td>\n",
       "      <td>Baixa</td>\n",
       "    </tr>\n",
       "    <tr>\n",
       "      <th>10</th>\n",
       "      <td>13008</td>\n",
       "      <td>Triângulo</td>\n",
       "      <td>AM</td>\n",
       "      <td>271261</td>\n",
       "      <td>Baixa</td>\n",
       "    </tr>\n",
       "    <tr>\n",
       "      <th>18</th>\n",
       "      <td>27004</td>\n",
       "      <td>4ª Região de Saúde</td>\n",
       "      <td>AL</td>\n",
       "      <td>261185</td>\n",
       "      <td>Baixa</td>\n",
       "    </tr>\n",
       "    <tr>\n",
       "      <th>16</th>\n",
       "      <td>27002</td>\n",
       "      <td>2ª Região de Saúde</td>\n",
       "      <td>AL</td>\n",
       "      <td>257041</td>\n",
       "      <td>Baixa</td>\n",
       "    </tr>\n",
       "    <tr>\n",
       "      <th>9</th>\n",
       "      <td>13007</td>\n",
       "      <td>Regional Juruá</td>\n",
       "      <td>AM</td>\n",
       "      <td>202094</td>\n",
       "      <td>Baixa</td>\n",
       "    </tr>\n",
       "    <tr>\n",
       "      <th>8</th>\n",
       "      <td>13006</td>\n",
       "      <td>Regional Purus</td>\n",
       "      <td>AM</td>\n",
       "      <td>182691</td>\n",
       "      <td>Baixa</td>\n",
       "    </tr>\n",
       "    <tr>\n",
       "      <th>0</th>\n",
       "      <td>12001</td>\n",
       "      <td>Alto Acre</td>\n",
       "      <td>AC</td>\n",
       "      <td>123084</td>\n",
       "      <td>Baixa</td>\n",
       "    </tr>\n",
       "    <tr>\n",
       "      <th>13</th>\n",
       "      <td>16002</td>\n",
       "      <td>Área Norte</td>\n",
       "      <td>AP</td>\n",
       "      <td>110485</td>\n",
       "      <td>Baixa</td>\n",
       "    </tr>\n",
       "  </tbody>\n",
       "</table>\n",
       "</div>"
      ],
      "text/plain": [
       "    code_health_region           Nome da Região de Saúde  UF    count  Faixa\n",
       "3                13001  Manaus, Entorno e Alto Rio Negro  AM  5589098   Alta\n",
       "15               27001                1ª Região de Saúde  AL  2800994   Alta\n",
       "1                12002                Baixo Acre e Purus  AC  1120283   Alta\n",
       "21               27007                7ª Região de Saúde  AL  1017778   Alta\n",
       "12               16001                      Área Central  AP   940726   Alta\n",
       "7                13005                    Baixo Amazonas  AM   531866   Alta\n",
       "23               27009                9ª Região de Saúde  AL   457909   Alta\n",
       "4                13002              Rio Negro e Solimões  AM   457896   Alta\n",
       "2                12003           Juruá e Tarauacá/Envira  AC   415253   Alta\n",
       "19               27005                5ª Região de Saúde  AL   408863   Alta\n",
       "20               27006                6ª Região de Saúde  AL   400125   Alta\n",
       "14               16003                     Área Sudoeste  AP   378395   Alta\n",
       "6                13004                    Médio Amazonas  AM   362121  Baixa\n",
       "17               27003                3ª Região de Saúde  AL   360034  Baixa\n",
       "11               13009                     Alto Solimões  AM   358523  Baixa\n",
       "22               27008                8ª Região de Saúde  AL   328125  Baixa\n",
       "24               27010               10ª Região de Saúde  AL   317642  Baixa\n",
       "5                13003                       Rio Madeira  AM   304650  Baixa\n",
       "10               13008                         Triângulo  AM   271261  Baixa\n",
       "18               27004                4ª Região de Saúde  AL   261185  Baixa\n",
       "16               27002                2ª Região de Saúde  AL   257041  Baixa\n",
       "9                13007                    Regional Juruá  AM   202094  Baixa\n",
       "8                13006                    Regional Purus  AM   182691  Baixa\n",
       "0                12001                         Alto Acre  AC   123084  Baixa\n",
       "13               16002                        Área Norte  AP   110485  Baixa"
      ]
     },
     "execution_count": 95,
     "metadata": {},
     "output_type": "execute_result"
    },
    {
     "data": {
      "image/png": "[encoded data removed]",
      "text/plain": [
       "<Figure size 432x288 with 1 Axes>"
      ]
     },
     "metadata": {
      "needs_background": "light"
     },
     "output_type": "display_data"
    }
   ],
   "source": [
    "#Regioes de saúde por Faixa\n",
    "geo.plot(column='Faixa', legend=True);\n",
    "data"
   ]
  },
  {
   "cell_type": "code",
   "execution_count": 96,
   "metadata": {},
   "outputs": [
    {
     "data": {
      "image/png": "[encoded data removed]",
      "text/plain": [
       "<Figure size 432x288 with 2 Axes>"
      ]
     },
     "metadata": {
      "needs_background": "light"
     },
     "output_type": "display_data"
    }
   ],
   "source": [
    "#Número de vacinas por cada região\n",
    "geo.plot(column='count', legend=True);"
   ]
  },
  {
   "cell_type": "markdown",
   "metadata": {},
   "source": [
    "Abaixo pode-se ver as cinco regiões com menos vacinados em cada faixa de vacinação. Entre os estados coletados, o Amazonas é o estado com a maior quantidade de regiões com baixa vacinação. Mesmo que seja o estado com o maior número de vacinas, por ser um estado muito grande, as vacinas estão sendo focadas em algumas regiões."
   ]
  },
  {
   "cell_type": "code",
   "execution_count": 94,
   "metadata": {},
   "outputs": [
    {
     "data": {
      "text/html": [
       "<div>\n",
       "<style scoped>\n",
       "    .dataframe tbody tr th:only-of-type {\n",
       "        vertical-align: middle;\n",
       "    }\n",
       "\n",
       "    .dataframe tbody tr th {\n",
       "        vertical-align: top;\n",
       "    }\n",
       "\n",
       "    .dataframe thead th {\n",
       "        text-align: right;\n",
       "    }\n",
       "</style>\n",
       "<table border=\"1\" class=\"dataframe\">\n",
       "  <thead>\n",
       "    <tr style=\"text-align: right;\">\n",
       "      <th></th>\n",
       "      <th>code_health_region</th>\n",
       "      <th>Nome da Região de Saúde</th>\n",
       "      <th>UF</th>\n",
       "      <th>count</th>\n",
       "      <th>Faixa</th>\n",
       "    </tr>\n",
       "  </thead>\n",
       "  <tbody>\n",
       "    <tr>\n",
       "      <th>4</th>\n",
       "      <td>13002</td>\n",
       "      <td>Rio Negro e Solimões</td>\n",
       "      <td>AM</td>\n",
       "      <td>457896</td>\n",
       "      <td>Alta</td>\n",
       "    </tr>\n",
       "    <tr>\n",
       "      <th>2</th>\n",
       "      <td>12003</td>\n",
       "      <td>Juruá e Tarauacá/Envira</td>\n",
       "      <td>AC</td>\n",
       "      <td>415253</td>\n",
       "      <td>Alta</td>\n",
       "    </tr>\n",
       "    <tr>\n",
       "      <th>19</th>\n",
       "      <td>27005</td>\n",
       "      <td>5ª Região de Saúde</td>\n",
       "      <td>AL</td>\n",
       "      <td>408863</td>\n",
       "      <td>Alta</td>\n",
       "    </tr>\n",
       "    <tr>\n",
       "      <th>20</th>\n",
       "      <td>27006</td>\n",
       "      <td>6ª Região de Saúde</td>\n",
       "      <td>AL</td>\n",
       "      <td>400125</td>\n",
       "      <td>Alta</td>\n",
       "    </tr>\n",
       "    <tr>\n",
       "      <th>14</th>\n",
       "      <td>16003</td>\n",
       "      <td>Área Sudoeste</td>\n",
       "      <td>AP</td>\n",
       "      <td>378395</td>\n",
       "      <td>Alta</td>\n",
       "    </tr>\n",
       "    <tr>\n",
       "      <th>16</th>\n",
       "      <td>27002</td>\n",
       "      <td>2ª Região de Saúde</td>\n",
       "      <td>AL</td>\n",
       "      <td>257041</td>\n",
       "      <td>Baixa</td>\n",
       "    </tr>\n",
       "    <tr>\n",
       "      <th>9</th>\n",
       "      <td>13007</td>\n",
       "      <td>Regional Juruá</td>\n",
       "      <td>AM</td>\n",
       "      <td>202094</td>\n",
       "      <td>Baixa</td>\n",
       "    </tr>\n",
       "    <tr>\n",
       "      <th>8</th>\n",
       "      <td>13006</td>\n",
       "      <td>Regional Purus</td>\n",
       "      <td>AM</td>\n",
       "      <td>182691</td>\n",
       "      <td>Baixa</td>\n",
       "    </tr>\n",
       "    <tr>\n",
       "      <th>0</th>\n",
       "      <td>12001</td>\n",
       "      <td>Alto Acre</td>\n",
       "      <td>AC</td>\n",
       "      <td>123084</td>\n",
       "      <td>Baixa</td>\n",
       "    </tr>\n",
       "    <tr>\n",
       "      <th>13</th>\n",
       "      <td>16002</td>\n",
       "      <td>Área Norte</td>\n",
       "      <td>AP</td>\n",
       "      <td>110485</td>\n",
       "      <td>Baixa</td>\n",
       "    </tr>\n",
       "  </tbody>\n",
       "</table>\n",
       "</div>"
      ],
      "text/plain": [
       "    code_health_region  Nome da Região de Saúde  UF   count  Faixa\n",
       "4                13002     Rio Negro e Solimões  AM  457896   Alta\n",
       "2                12003  Juruá e Tarauacá/Envira  AC  415253   Alta\n",
       "19               27005       5ª Região de Saúde  AL  408863   Alta\n",
       "20               27006       6ª Região de Saúde  AL  400125   Alta\n",
       "14               16003            Área Sudoeste  AP  378395   Alta\n",
       "16               27002       2ª Região de Saúde  AL  257041  Baixa\n",
       "9                13007           Regional Juruá  AM  202094  Baixa\n",
       "8                13006           Regional Purus  AM  182691  Baixa\n",
       "0                12001                Alto Acre  AC  123084  Baixa\n",
       "13               16002               Área Norte  AP  110485  Baixa"
      ]
     },
     "execution_count": 94,
     "metadata": {},
     "output_type": "execute_result"
    },
    {
     "data": {
      "image/png": "[encoded data removed]",
      "text/plain": [
       "<Figure size 432x288 with 1 Axes>"
      ]
     },
     "metadata": {
      "needs_background": "light"
     },
     "output_type": "display_data"
    },
    {
     "data": {
      "image/png": "[encoded data removed]",
      "text/plain": [
       "<Figure size 432x288 with 1 Axes>"
      ]
     },
     "metadata": {
      "needs_background": "light"
     },
     "output_type": "display_data"
    }
   ],
   "source": [
    "#Regioes com menos vacinas em cada faixa\n",
    "state.merge(tabela).dropna().groupby('Faixa').plot(column='Faixa', legend=True);\n",
    "tabela"
   ]
  },
  {
   "cell_type": "code",
   "execution_count": 93,
   "metadata": {},
   "outputs": [
    {
     "data": {
      "text/plain": [
       "UF\n",
       "AC    1658620\n",
       "AL    6609696\n",
       "AM    8260200\n",
       "AP    1429606\n",
       "Name: count, dtype: int64"
      ]
     },
     "execution_count": 93,
     "metadata": {},
     "output_type": "execute_result"
    }
   ],
   "source": [
    "#Total de Vacinas por Estado\n",
    "data.groupby('UF').sum()['count']"
   ]
  },
  {
   "cell_type": "markdown",
   "metadata": {},
   "source": [
    "________________"
   ]
  },
  {
   "cell_type": "markdown",
   "metadata": {},
   "source": [
    "### Conclusão"
   ]
  },
  {
   "cell_type": "markdown",
   "metadata": {},
   "source": [
    "Neste projeto foram utilizadas várias bibliotecas para se encontrar formas eficientes de se utilizar o Python para baixar, carregar e manipular uma grande quantidade de dados.\n",
    "- A biblioteca datatable, uma implementação do python que tenta duplicar a biblioteca data.table do R, é uma boa alternativa para se trabalhar com grandes dados, tendo uma boa eficiência de tempo e de memória.\n",
    "- A biblioteca Pandas é uma biblioteca pesada e lenta, mas ao se utilizar o pyarrow como auxiliar, consegue-se melhorar bastante a performance dos processos."
   ]
  },
  {
   "cell_type": "markdown",
   "metadata": {},
   "source": [
    "### Referências"
   ]
  },
  {
   "cell_type": "markdown",
   "metadata": {},
   "source": [
    "Documentação datatable:\n",
    "https://datatable.readthedocs.io/en/latest/manual/comparison_with_pandas.html?highlight=pandas\n",
    "\n",
    "Fast Python for Data Science - Tiago Rodrigues Antão. 2022 Manning Publications. (Livro) "
   ]
  }
 ],
 "metadata": {
  "kernelspec": {
   "display_name": "Python 3.9.2 64-bit",
   "language": "python",
   "name": "python3"
  },
  "language_info": {
   "codemirror_mode": {
    "name": "ipython",
    "version": 3
   },
   "file_extension": ".py",
   "mimetype": "text/x-python",
   "name": "python",
   "nbconvert_exporter": "python",
   "pygments_lexer": "ipython3",
   "version": "3.9.2"
  },
  "orig_nbformat": 4,
  "vscode": {
   "interpreter": {
    "hash": "11938c6bc6919ae2720b4d5011047913343b08a43b18698fd82dedb0d4417594"
   }
  }
 },
 "nbformat": 4,
 "nbformat_minor": 2
}
